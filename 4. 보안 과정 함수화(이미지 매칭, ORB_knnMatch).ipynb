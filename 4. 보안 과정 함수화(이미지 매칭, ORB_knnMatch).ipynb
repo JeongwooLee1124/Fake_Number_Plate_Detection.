{
 "cells": [
  {
   "cell_type": "markdown",
   "metadata": {},
   "source": [
    "# 보안2 과정 함수화\n",
    "\n",
    "1. 이미지 매칭\n",
    " - 평균 해시 매칭(Average Hash Matching)\n",
    "\n",
    "2. 특징 디스크립터 검출기와 올바른 매칭점 찾기\n",
    " - 디스크립터 검출기: ORB (Oriented and Rotated BRIEF)\n",
    " - 매칭점 찾기 평가 지표: knnMatch()\n"
   ]
  },
  {
   "cell_type": "markdown",
   "metadata": {},
   "source": [
    "#### 라이브러리"
   ]
  },
  {
   "cell_type": "code",
   "execution_count": 2,
   "metadata": {},
   "outputs": [],
   "source": [
    "\n",
    "# Data handling\n",
    "import numpy as np\n",
    "\n",
    "\n",
    "# OpenCV, OCR\n",
    "import cv2\n",
    "import pytesseract\n",
    "from skimage.transform import resize\n",
    "\n",
    "\n",
    "# Youtube video\n",
    "import pafy\n",
    "import cv2\n",
    "\n",
    "\n",
    "# Visualizatipn\n",
    "import numpy as np\n",
    "import matplotlib.pyplot as plt\n",
    "%matplotlib inline\n",
    "plt.rc('font', family='malgun gothic')\n",
    "plt.rc('axes', unicode_minus=False)\n",
    "\n",
    "# time\n",
    "from time import time"
   ]
  },
  {
   "cell_type": "markdown",
   "metadata": {},
   "source": [
    "#### 차량 진입 사진 로드"
   ]
  },
  {
   "cell_type": "code",
   "execution_count": 3,
   "metadata": {},
   "outputs": [],
   "source": [
    "def imread(filename, flags=cv2.IMREAD_COLOR, dtype=np.uint8):\n",
    "    try:\n",
    "        n = np.fromfile(filename, dtype) \n",
    "        img = cv2.imdecode(n, flags) \n",
    "        return img \n",
    "    except Exception as e: \n",
    "        print(e) \n",
    "        return None"
   ]
  },
  {
   "cell_type": "code",
   "execution_count": 4,
   "metadata": {},
   "outputs": [],
   "source": [
    "greencar01 = imread('./car_image/그린카진입01.jpg')\n",
    "greencar02 = imread('./car_image/그린카진입02.jpg')\n",
    "socar01 = imread('./car_image/쏘카진입01.jpg')\n",
    "socar02 = imread('./car_image/쏘카진입02.jpg')"
   ]
  },
  {
   "cell_type": "markdown",
   "metadata": {},
   "source": [
    "# 1. 이미지 매칭\n",
    " - 평균 해시 매칭(Average Hash Matching)"
   ]
  },
  {
   "cell_type": "code",
   "execution_count": 16,
   "metadata": {},
   "outputs": [],
   "source": [
    "greencar01_hash = img2hash(greencar01)\n",
    "greencar02_hash = img2hash(greencar02)\n",
    "socar01_hash = img2hash(socar01)\n",
    "socar02_hash = img2hash(socar02)"
   ]
  },
  {
   "cell_type": "code",
   "execution_count": 34,
   "metadata": {},
   "outputs": [],
   "source": [
    "# 이미지를 16x16 크기의 평균 해쉬로 변환\n",
    "def img2hash(img):\n",
    "    gray = cv2.cvtColor(img, cv2.COLOR_BGR2GRAY)\n",
    "#    gray = cv2.resize(gray, (600, 300)) # 이미지 croped & resize된 사진을 받음\n",
    "    avg = gray.mean()\n",
    "    bi = 1 * (gray > avg)\n",
    "    return bi\n",
    "\n",
    "# 해밍거리 측정 함수\n",
    "def hamming_distance(a, b):\n",
    "    a = a.reshape(1,-1)\n",
    "    b = b.reshape(1,-1)\n",
    "    # 같은 자리의 값이 서로 다른 것들의 합\n",
    "    distance = (a !=b).sum()\n",
    "    return distance\n",
    "\n",
    "def image_match(image, stored_hash):\n",
    "    # 들어온 차량의 이미지\n",
    "    income_car_image = image    \n",
    "    # 차 영상의 해쉬 구하기\n",
    "    query_hash = img2hash(income_car_image)\n",
    "    \n",
    "    # 해당 차량의 저장된 해쉬 불러오기\n",
    "    stored_hash = stored_hash\n",
    "    \n",
    "    # 해밍 거리 산출\n",
    "    flag = 0\n",
    "    hamming_dst = hamming_distance(query_hash, stored_hash)\n",
    "    if hamming_dst/256 < 200: flag=1; print('이미지매칭: 동일 차량입니다.')\n",
    "    else: print('동일하지 않은 차량입니다.')\n",
    "        \n",
    "    return income_car_image, flag"
   ]
  },
  {
   "cell_type": "code",
   "execution_count": 38,
   "metadata": {},
   "outputs": [
    {
     "name": "stdout",
     "output_type": "stream",
     "text": [
      "동일 차량입니다.\n",
      "1\n",
      "동일 차량입니다.\n",
      "1\n",
      "동일하지 않은 차량입니다.\n",
      "0\n",
      "동일하지 않은 차량입니다.\n",
      "0\n",
      "동일하지 않은 차량입니다.\n",
      "0\n",
      "동일하지 않은 차량입니다.\n",
      "0\n"
     ]
    }
   ],
   "source": [
    "print(image_match(greencar01, greencar01_hash)[1])\n",
    "print(image_match(greencar01, greencar02_hash)[1])\n",
    "print(image_match(greencar01, socar01_hash)[1])\n",
    "print(image_match(greencar01, socar02_hash)[1])\n",
    "print(image_match(greencar02, socar01_hash)[1])\n",
    "print(image_match(greencar02, socar02_hash)[1])"
   ]
  },
  {
   "cell_type": "markdown",
   "metadata": {},
   "source": [
    "# 2. ORB(Oriented and Rotated BRIEF)와 knnMatch\n",
    " knnMatch() 함수는 디스크립터당 k개의 최근접 이웃 매칭점을 가까운 순서대로 반환합니다. k개의 최근접 이웃 중 거리가 가까운 것은 좋은 매칭점이고, 거리가 먼 것은 좋지 않은 매칭점일 가능성이 높습니다. 최근접 이웃 중 거리가 가까운 것 위주로 골라내면 좋은 매칭점을 찾아낼 수 있습니다."
   ]
  },
  {
   "cell_type": "code",
   "execution_count": 42,
   "metadata": {},
   "outputs": [],
   "source": [
    "# 서술자 추출 함수\n",
    "def get_desc(img):\n",
    "    img = img\n",
    "    gray = cv2.cvtColor(img, cv2.COLOR_BGR2GRAY)\n",
    "    kp, desc = detector.detectAndCompute(gray, None)\n",
    "    return kp, desc"
   ]
  },
  {
   "cell_type": "code",
   "execution_count": 40,
   "metadata": {},
   "outputs": [],
   "source": [
    "# ORB로 서술자 추출 \n",
    "detector = cv2.ORB_create()\n",
    "\n",
    "# BF-Hamming 생성\n",
    "matcher = cv2.BFMatcher(cv2.NORM_HAMMING2)\n",
    "\n",
    "def ORB_knnMatch(income_car_image, flag, stored_kp, stored_desc):\n",
    "    # 각 영상에 대해 키 포인트와 서술자 추출 \n",
    "    compare_kp, compare_desc = get_desc(income_car_image)\n",
    "    # knnMatch, k=2\n",
    "    matches = matcher.knnMatch(compare_desc, stored_desc, 2)\n",
    "\n",
    "    # 첫번재 이웃의 거리가 두 번째 이웃 거리의 75% 이내인 것만 추출---⑤\n",
    "    ratio = 0.75\n",
    "    good_matches = [first for first,second in matches \\\n",
    "                        if first.distance < second.distance * ratio]\n",
    "    if len(good_matches) < 70: print('특징점 비교: 동일 차량입니다.')\n",
    "    else: print('동일하지 않은 차량입니다')\n",
    "    #print('matches:%d/%d' %(len(good_matches),len(matches)))\n",
    "\n",
    "    # 좋은 매칭만 그리기\n",
    "    #res = cv2.drawMatches(img1, kp1, img2, kp2, good_matches, None, \\\n",
    "     #                   flags=cv2.DRAW_MATCHES_FLAGS_NOT_DRAW_SINGLE_POINTS)\n",
    "    # 결과 출력\n",
    "    #plt.figure(figsize=(15, 10))\n",
    "    #plt.imshow(res)\n",
    "    #plt.show()"
   ]
  },
  {
   "cell_type": "code",
   "execution_count": 52,
   "metadata": {},
   "outputs": [],
   "source": [
    "greencar01_kp, greencar01_desc = get_desc(greencar01)\n",
    "greencar02_kp, greencar02_desc = get_desc(greencar02)\n",
    "socar01_kp, socar01_desc = get_desc(socar01)\n",
    "socar02_kp, socar02_desc = get_desc(socar02)"
   ]
  },
  {
   "cell_type": "code",
   "execution_count": 53,
   "metadata": {},
   "outputs": [
    {
     "name": "stdout",
     "output_type": "stream",
     "text": [
      "동일 차량입니다.\n"
     ]
    }
   ],
   "source": [
    "# 이미지 매칭\n",
    "income_car_image, flag = image_match(greencar01, greencar01_hash)"
   ]
  },
  {
   "cell_type": "code",
   "execution_count": 55,
   "metadata": {},
   "outputs": [
    {
     "name": "stdout",
     "output_type": "stream",
     "text": [
      "특징점 비교: 동일 차량입니다.\n",
      "None\n",
      "특징점 비교: 동일 차량입니다.\n",
      "None\n",
      "동일하지 않은 차량입니다\n",
      "None\n",
      "동일하지 않은 차량입니다\n",
      "None\n"
     ]
    }
   ],
   "source": [
    "# 특징점 매칭\n",
    "print(ORB_knnMatch(income_car_image, flag, greencar01_kp, greencar01_desc))\n",
    "print(ORB_knnMatch(income_car_image, flag, greencar02_kp, greencar02_desc))\n",
    "print(ORB_knnMatch(income_car_image, flag, socar01_kp, socar01_desc))\n",
    "print(ORB_knnMatch(income_car_image, flag, socar02_kp, socar02_desc))\n"
   ]
  }
 ],
 "metadata": {
  "colab": {
   "collapsed_sections": [],
   "name": "week03_01 (성민) yolo_v5_return_croped.ipynb",
   "provenance": []
  },
  "kernelspec": {
   "display_name": "Python 3",
   "language": "python",
   "name": "python3"
  },
  "language_info": {
   "codemirror_mode": {
    "name": "ipython",
    "version": 3
   },
   "file_extension": ".py",
   "mimetype": "text/x-python",
   "name": "python",
   "nbconvert_exporter": "python",
   "pygments_lexer": "ipython3",
   "version": "3.7.6"
  }
 },
 "nbformat": 4,
 "nbformat_minor": 1
}
